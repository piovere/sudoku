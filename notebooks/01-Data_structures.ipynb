{
 "cells": [
  {
   "cell_type": "markdown",
   "metadata": {},
   "source": [
    "# Data structure/World"
   ]
  },
  {
   "cell_type": "code",
   "execution_count": 5,
   "metadata": {
    "ExecuteTime": {
     "end_time": "2019-12-14T23:32:27.806932Z",
     "start_time": "2019-12-14T23:32:27.804113Z"
    }
   },
   "outputs": [],
   "source": [
    "from src.board import Board\n",
    "import numpy as np"
   ]
  },
  {
   "cell_type": "code",
   "execution_count": 6,
   "metadata": {
    "ExecuteTime": {
     "end_time": "2019-12-14T23:32:28.170659Z",
     "start_time": "2019-12-14T23:32:28.167833Z"
    }
   },
   "outputs": [],
   "source": [
    "board = Board()"
   ]
  },
  {
   "cell_type": "code",
   "execution_count": 7,
   "metadata": {
    "ExecuteTime": {
     "end_time": "2019-12-14T23:32:28.285297Z",
     "start_time": "2019-12-14T23:32:28.280934Z"
    }
   },
   "outputs": [
    {
     "data": {
      "text/plain": [
       "True"
      ]
     },
     "execution_count": 7,
     "metadata": {},
     "output_type": "execute_result"
    }
   ],
   "source": [
    "board.valid()"
   ]
  },
  {
   "cell_type": "code",
   "execution_count": 8,
   "metadata": {
    "ExecuteTime": {
     "end_time": "2019-12-14T23:32:28.387425Z",
     "start_time": "2019-12-14T23:32:28.383762Z"
    }
   },
   "outputs": [],
   "source": [
    "board._world[0] = np.arange(1, 10)\n",
    "board._world[:,0] = np.array([1, 4, 5, 2, 3, 6, 7, 8, 9])"
   ]
  },
  {
   "cell_type": "code",
   "execution_count": 9,
   "metadata": {
    "ExecuteTime": {
     "end_time": "2019-12-14T23:32:28.788459Z",
     "start_time": "2019-12-14T23:32:28.783786Z"
    }
   },
   "outputs": [
    {
     "data": {
      "text/plain": [
       "True"
      ]
     },
     "execution_count": 9,
     "metadata": {},
     "output_type": "execute_result"
    }
   ],
   "source": [
    "board.valid()"
   ]
  },
  {
   "cell_type": "code",
   "execution_count": 10,
   "metadata": {
    "ExecuteTime": {
     "end_time": "2019-12-14T23:32:29.113235Z",
     "start_time": "2019-12-14T23:32:29.107318Z"
    }
   },
   "outputs": [
    {
     "data": {
      "text/plain": [
       "False"
      ]
     },
     "execution_count": 10,
     "metadata": {},
     "output_type": "execute_result"
    }
   ],
   "source": [
    "board = Board()\n",
    "board._world[0] = np.arange(1, 10)\n",
    "board._world[:,0] = np.arange(1, 10)\n",
    "board._world[-1, -1] = 9\n",
    "board.valid()"
   ]
  },
  {
   "cell_type": "code",
   "execution_count": 11,
   "metadata": {
    "ExecuteTime": {
     "end_time": "2019-12-14T23:32:29.404425Z",
     "start_time": "2019-12-14T23:32:29.399484Z"
    }
   },
   "outputs": [
    {
     "name": "stdout",
     "output_type": "stream",
     "text": [
      "False\n"
     ]
    }
   ],
   "source": [
    "board = Board()\n",
    "board._world[0] = np.arange(1, 10)\n",
    "board._world[:,0] = np.arange(1, 10)\n",
    "board._world[-1, -1] = 9\n",
    "print(board.valid())"
   ]
  },
  {
   "cell_type": "code",
   "execution_count": 12,
   "metadata": {
    "ExecuteTime": {
     "end_time": "2019-12-14T23:32:29.740405Z",
     "start_time": "2019-12-14T23:32:29.735769Z"
    }
   },
   "outputs": [
    {
     "name": "stdout",
     "output_type": "stream",
     "text": [
      "False\n"
     ]
    }
   ],
   "source": [
    "board = Board()\n",
    "board._world[0] = np.arange(1, 10)\n",
    "board._world[:,0] = np.arange(1, 10)\n",
    "board._world[-1, 0] = 1\n",
    "print(board.valid())"
   ]
  },
  {
   "cell_type": "code",
   "execution_count": 13,
   "metadata": {
    "ExecuteTime": {
     "end_time": "2019-12-14T23:32:30.053228Z",
     "start_time": "2019-12-14T23:32:30.047853Z"
    },
    "scrolled": true
   },
   "outputs": [
    {
     "name": "stdout",
     "output_type": "stream",
     "text": [
      "[[1 2 3 4 5 6 7 8 9]\n",
      " [2 0 0 0 0 0 0 0 0]\n",
      " [3 0 0 0 0 0 0 0 0]\n",
      " [4 0 0 0 0 0 0 0 0]\n",
      " [5 0 0 0 0 0 0 0 0]\n",
      " [6 0 0 0 0 0 0 0 0]\n",
      " [7 0 0 0 0 0 0 0 0]\n",
      " [8 0 0 0 0 0 0 0 0]\n",
      " [9 0 0 0 0 0 0 0 0]]\n",
      "False\n"
     ]
    }
   ],
   "source": [
    "board = Board()\n",
    "board._world[0] = np.arange(1, 10)\n",
    "board._world[:,0] = np.arange(1, 10)\n",
    "# board._world[1, 1] = 1\n",
    "print(board)\n",
    "print(board.valid())"
   ]
  },
  {
   "cell_type": "code",
   "execution_count": 14,
   "metadata": {
    "ExecuteTime": {
     "end_time": "2019-12-14T23:32:30.195230Z",
     "start_time": "2019-12-14T23:32:30.191666Z"
    }
   },
   "outputs": [
    {
     "name": "stdout",
     "output_type": "stream",
     "text": [
      "[[1 2 3 4 5 6 7 8 9]\n",
      " [2 0 0 0 0 0 0 0 0]\n",
      " [3 0 0 0 0 0 0 0 0]\n",
      " [4 0 0 0 0 0 0 0 0]\n",
      " [5 0 0 0 0 0 0 0 0]\n",
      " [6 0 0 0 0 0 0 0 0]\n",
      " [7 0 0 0 0 0 0 0 0]\n",
      " [8 0 0 0 0 0 0 0 0]\n",
      " [9 0 0 0 0 0 0 0 0]]\n"
     ]
    }
   ],
   "source": [
    "print(board)"
   ]
  },
  {
   "cell_type": "code",
   "execution_count": 15,
   "metadata": {
    "ExecuteTime": {
     "end_time": "2019-12-14T23:32:30.320073Z",
     "start_time": "2019-12-14T23:32:30.311724Z"
    }
   },
   "outputs": [
    {
     "name": "stdout",
     "output_type": "stream",
     "text": [
      "[[1 2 3 4 5 6 7 8 9]\n",
      " [4 0 0 0 0 0 0 0 0]\n",
      " [5 0 0 0 0 0 0 0 0]\n",
      " [2 0 0 5 0 0 0 0 0]\n",
      " [3 0 0 0 0 0 0 0 0]\n",
      " [6 0 0 0 0 0 0 0 0]\n",
      " [7 0 0 0 0 0 0 0 0]\n",
      " [8 0 0 0 0 0 0 0 0]\n",
      " [9 0 0 0 0 0 0 0 0]]\n"
     ]
    },
    {
     "data": {
      "text/plain": [
       "True"
      ]
     },
     "execution_count": 15,
     "metadata": {},
     "output_type": "execute_result"
    }
   ],
   "source": [
    "board = Board()\n",
    "board._world[0] = np.arange(1, 10)\n",
    "board._world[:,0] = np.array([1, 4, 5, 2, 3, 6, 7, 8, 9])\n",
    "board.set(5, 3, 3)\n",
    "print(board)\n",
    "board.valid()"
   ]
  },
  {
   "cell_type": "code",
   "execution_count": 16,
   "metadata": {
    "ExecuteTime": {
     "end_time": "2019-12-14T23:32:30.658590Z",
     "start_time": "2019-12-14T23:32:30.655727Z"
    }
   },
   "outputs": [],
   "source": [
    "from src.board import Board"
   ]
  },
  {
   "cell_type": "code",
   "execution_count": 17,
   "metadata": {
    "ExecuteTime": {
     "end_time": "2019-12-14T23:32:31.230360Z",
     "start_time": "2019-12-14T23:32:31.227798Z"
    }
   },
   "outputs": [],
   "source": [
    "board = Board()"
   ]
  },
  {
   "cell_type": "code",
   "execution_count": 18,
   "metadata": {
    "ExecuteTime": {
     "end_time": "2019-12-14T23:32:31.519393Z",
     "start_time": "2019-12-14T23:32:31.515427Z"
    }
   },
   "outputs": [
    {
     "data": {
      "text/plain": [
       "[[0 0 0 0 0 0 0 0 0]\n",
       " [0 0 0 0 0 0 0 0 0]\n",
       " [0 0 0 0 0 0 0 0 0]\n",
       " [0 0 0 0 0 0 0 0 0]\n",
       " [0 0 0 0 0 0 0 0 0]\n",
       " [0 0 0 0 0 0 0 0 0]\n",
       " [0 0 0 0 0 0 0 0 0]\n",
       " [0 0 0 0 0 0 0 0 0]\n",
       " [0 0 0 0 0 0 0 0 0]]"
      ]
     },
     "execution_count": 18,
     "metadata": {},
     "output_type": "execute_result"
    }
   ],
   "source": [
    "board"
   ]
  },
  {
   "cell_type": "code",
   "execution_count": 19,
   "metadata": {
    "ExecuteTime": {
     "end_time": "2019-12-14T23:32:33.968325Z",
     "start_time": "2019-12-14T23:32:33.963788Z"
    }
   },
   "outputs": [
    {
     "data": {
      "text/plain": [
       "True"
      ]
     },
     "execution_count": 19,
     "metadata": {},
     "output_type": "execute_result"
    }
   ],
   "source": [
    "board.set(1, 0, 0)"
   ]
  },
  {
   "cell_type": "code",
   "execution_count": 20,
   "metadata": {
    "ExecuteTime": {
     "end_time": "2019-12-14T23:32:42.976081Z",
     "start_time": "2019-12-14T23:32:42.971933Z"
    }
   },
   "outputs": [
    {
     "data": {
      "text/plain": [
       "False"
      ]
     },
     "execution_count": 20,
     "metadata": {},
     "output_type": "execute_result"
    }
   ],
   "source": [
    "board.set(1, 1, 0)"
   ]
  },
  {
   "cell_type": "code",
   "execution_count": null,
   "metadata": {},
   "outputs": [],
   "source": []
  }
 ],
 "metadata": {
  "kernelspec": {
   "display_name": "Python [conda env:sudoku]",
   "language": "python",
   "name": "conda-env-sudoku-py"
  },
  "language_info": {
   "codemirror_mode": {
    "name": "ipython",
    "version": 3
   },
   "file_extension": ".py",
   "mimetype": "text/x-python",
   "name": "python",
   "nbconvert_exporter": "python",
   "pygments_lexer": "ipython3",
   "version": "3.7.5"
  }
 },
 "nbformat": 4,
 "nbformat_minor": 2
}
